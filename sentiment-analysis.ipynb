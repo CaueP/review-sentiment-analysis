{
 "cells": [
  {
   "cell_type": "code",
   "execution_count": 14,
   "metadata": {},
   "outputs": [],
   "source": [
    "# 1. Feature\n",
    "# Reading data files\n",
    "import os\n",
    "project_path = os.path.realpath('')\n",
    "# data_set_names = (data_set_names = ('imdb_labelled.txt', 'amazon_cells_labelled.txt', 'yelp_labelled.txt')\n",
    "data_set_names = ('tweets-labeled.txt',)\n",
    "files = [os.path.join(project_path, 'data', file_name) for file_name in data_set_names]\n",
    "\n",
    "lines = []\n",
    "for f in files:\n",
    "    with open(f, 'r') as text_file:\n",
    "        lines += text_file.read().split('\\n')\n",
    "        \n",
    "# Filter only lines valid, i.e. that have two columns (input, label) and the label isn't empty ('')\n",
    "lines = [line.split('\\t') for line in lines if len(line.split('\\t'))==2 and line.split('\\t')[1]<>'']\n",
    "\n",
    "# Separate data into two lists: documents and labels\n",
    "train_documents = [line[0] for line in lines]\n",
    "train_labels = [int(line[1]) for line in lines]\n",
    "\n",
    "# Prepare data model: convert our data into numeric fields using CountVectorizer\n",
    "from sklearn.feature_extraction.text import CountVectorizer\n",
    "\n",
    "# It converts the text reviews into a vector with the frequency of each word on them for each review text (Term Frequency Representation)\n",
    "count_vectorizer = CountVectorizer(binary='true')\n",
    "train_documents = count_vectorizer.fit_transform(train_documents)"
   ]
  },
  {
   "cell_type": "code",
   "execution_count": 15,
   "metadata": {},
   "outputs": [],
   "source": [
    "# 2. Model Training\n",
    "from sklearn.naive_bayes import BernoulliNB\n",
    "classifier = BernoulliNB().fit(train_documents, train_labels)"
   ]
  },
  {
   "cell_type": "code",
   "execution_count": 16,
   "metadata": {},
   "outputs": [
    {
     "ename": "SyntaxError",
     "evalue": "invalid syntax (<ipython-input-16-a12d5956b90e>, line 8)",
     "output_type": "error",
     "traceback": [
      "\u001b[0;36m  File \u001b[0;32m\"<ipython-input-16-a12d5956b90e>\"\u001b[0;36m, line \u001b[0;32m8\u001b[0m\n\u001b[0;31m    else\u001b[0m\n\u001b[0m        ^\u001b[0m\n\u001b[0;31mSyntaxError\u001b[0m\u001b[0;31m:\u001b[0m invalid syntax\n"
     ]
    }
   ],
   "source": [
    "# 3. Test\n",
    "def classify_review(review):\n",
    "    classified = classifier.predict(count_vectorizer.transform([review]))\n",
    "    if classified[0] == 1:\n",
    "        print('This is a positive review! :)')\n",
    "    elif classified[0] == 0:\n",
    "        print('This is a neutral review! :)')\n",
    "    else\n",
    "        print('This is a negative review! :(')"
   ]
  },
  {
   "cell_type": "code",
   "execution_count": 24,
   "metadata": {},
   "outputs": [
    {
     "name": "stdout",
     "output_type": "stream",
     "text": [
      "This is a positive review! :)\n"
     ]
    }
   ],
   "source": [
    "# Test 1: Positive review\n",
    "classify_review(\"Traficante é preso\")"
   ]
  },
  {
   "cell_type": "code",
   "execution_count": 18,
   "metadata": {},
   "outputs": [
    {
     "name": "stdout",
     "output_type": "stream",
     "text": [
      "This is a negative review! :(\n"
     ]
    }
   ],
   "source": [
    "# Test 2: Negative review\n",
    "classify_review(\"This is the worst movie ever\")"
   ]
  }
 ],
 "metadata": {
  "kernelspec": {
   "display_name": "Python 2",
   "language": "python",
   "name": "python2"
  },
  "language_info": {
   "codemirror_mode": {
    "name": "ipython",
    "version": 2
   },
   "file_extension": ".py",
   "mimetype": "text/x-python",
   "name": "python",
   "nbconvert_exporter": "python",
   "pygments_lexer": "ipython2",
   "version": "2.7.15"
  }
 },
 "nbformat": 4,
 "nbformat_minor": 2
}
