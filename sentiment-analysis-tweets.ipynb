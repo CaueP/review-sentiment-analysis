{
 "cells": [
  {
   "cell_type": "code",
   "execution_count": 84,
   "metadata": {},
   "outputs": [],
   "source": [
    "import os\n",
    "import random\n",
    "\n",
    "from sklearn.feature_extraction.text import CountVectorizer\n",
    "from sklearn.naive_bayes import BernoulliNB, MultinomialNB\n",
    "\n",
    "\n",
    "from sklearn import metrics\n",
    "from sklearn.model_selection import cross_val_predict\n",
    "import pandas as pd"
   ]
  },
  {
   "cell_type": "markdown",
   "metadata": {},
   "source": [
    "# 1. Feature\n",
    "Prepare dataset for training"
   ]
  },
  {
   "cell_type": "code",
   "execution_count": 85,
   "metadata": {},
   "outputs": [],
   "source": [
    "# Reading data files\n",
    "project_path = os.path.realpath('')\n",
    "# data_set_names = ('imdb_labelled.txt', 'amazon_cells_labelled.txt', 'yelp_labelled.txt')\n",
    "data_set_names = ('tweets-labeled.txt',)\n",
    "files = [os.path.join(project_path, 'data', file_name) for file_name in data_set_names]\n",
    "\n",
    "lines = []\n",
    "for f in files:\n",
    "    with open(f, 'r') as text_file:\n",
    "        lines += text_file.read().split('\\n')\n",
    "        \n",
    "# Filter only lines valid, i.e. that have two columns (input, label) and the label isn't empty ('')\n",
    "lines = [line.split('\\t') for line in lines if len(line.split('\\t'))==2 and line.split('\\t')[1]<>'']"
   ]
  },
  {
   "cell_type": "code",
   "execution_count": 86,
   "metadata": {},
   "outputs": [],
   "source": [
    "# Separate train and test data\n",
    "TRAIN_PERCENT = 0.8\n",
    "\n",
    "total_data = len(lines)\n",
    "total_train_data = int(total_data * TRAIN_PERCENT)\n",
    "\n",
    "# Suffle list and take first N to train and leave the rest for testing\n",
    "random.shuffle(lines)\n",
    "\n",
    "# Separate data into two lists: documents and labels\n",
    "train_documents = [line[0] for line in lines[:total_train_data]]\n",
    "train_labels = [int(line[1]) for line in lines[:total_train_data]]\n",
    "\n",
    "test_documents = [line for line in lines[total_train_data:]]\n",
    "# test_labels = [int(line[1]) for line in lines[total_train_data:]]\n",
    "\n",
    "# assert total_data == len(train_documents) + len(test_labels)"
   ]
  },
  {
   "cell_type": "code",
   "execution_count": 87,
   "metadata": {},
   "outputs": [],
   "source": [
    "# Prepare data model: convert our data into numeric fields using CountVectorizer\n",
    "# It converts the text reviews into a vector with the frequency of each word on them for each review text (Term Frequency Representation)\n",
    "count_vectorizer = CountVectorizer(binary='true')\n",
    "train_documents = count_vectorizer.fit_transform(train_documents)"
   ]
  },
  {
   "cell_type": "markdown",
   "metadata": {},
   "source": [
    "## 2. Model training"
   ]
  },
  {
   "cell_type": "code",
   "execution_count": 158,
   "metadata": {},
   "outputs": [],
   "source": [
    "# 2. Model Training\n",
    "# classifier = MultinomialNB().fit(train_documents, train_labels)\n",
    "classifier = BernoulliNB().fit(train_documents, train_labels)"
   ]
  },
  {
   "cell_type": "code",
   "execution_count": 120,
   "metadata": {},
   "outputs": [
    {
     "data": {
      "text/plain": [
       "MultinomialNB(alpha=1.0, class_prior=None, fit_prior=True)"
      ]
     },
     "execution_count": 120,
     "metadata": {},
     "output_type": "execute_result"
    }
   ],
   "source": [
    "dataset = pd.read_csv('data/portuguese_tweets.csv',encoding='utf-8')\n",
    "\n",
    "# Separate tweets and labels\n",
    "train_documents = dataset['Text'].values\n",
    "train_labels = dataset['Classificacao'].values\n",
    "\n",
    "# Prepare data model\n",
    "vectorizer = CountVectorizer(analyzer=\"word\")\n",
    "train_documents = vectorizer.fit_transform(train_documents)\n",
    "\n",
    "# 2. Model Training\n",
    "classifier = MultinomialNB()\n",
    "classifier.fit(train_documents, train_labels)"
   ]
  },
  {
   "cell_type": "markdown",
   "metadata": {},
   "source": [
    "## 3. Model evaluation"
   ]
  },
  {
   "cell_type": "code",
   "execution_count": 152,
   "metadata": {},
   "outputs": [
    {
     "name": "stdout",
     "output_type": "stream",
     "text": [
      "\n"
     ]
    }
   ],
   "source": [
    "# count_correct = 0.0\n",
    "# total_test_data = len(test_documents)\n",
    "\n",
    "# for doc in test_documents:\n",
    "#     classification = classifier.predict(count_vectorizer.transform([doc[0]]))\n",
    "#     if classification == int(doc[1]):\n",
    "#         count_correct += 1.0\n",
    "\n",
    "# print('Total correct: {}'.format(count_correct))        \n",
    "# accuracy = count_correct / total_test_data\n",
    "# print('Accuracy: {}'.format(accuracy))\n",
    "print('')"
   ]
  },
  {
   "cell_type": "code",
   "execution_count": 156,
   "metadata": {},
   "outputs": [
    {
     "name": "stdout",
     "output_type": "stream",
     "text": [
      "Accuracy: 0.883156482498\n"
     ]
    }
   ],
   "source": [
    "# Cross validation\n",
    "cross_val_results = cross_val_predict(classifier, train_documents, train_labels, cv=10)\n",
    "# Measuring avg accuracy\n",
    "accuracy = metrics.accuracy_score(train_labels,cross_val_results)\n",
    "print('Accuracy: {}'.format(accuracy))"
   ]
  },
  {
   "cell_type": "code",
   "execution_count": 157,
   "metadata": {},
   "outputs": [
    {
     "name": "stdout",
     "output_type": "stream",
     "text": [
      "             precision    recall  f1-score   support\n",
      "\n",
      "   Positivo       0.95      0.88      0.91      3300\n",
      "   Negativo       0.89      0.93      0.91      2446\n",
      "     Neutro       0.80      0.84      0.82      2453\n",
      "\n",
      "avg / total       0.89      0.88      0.88      8199\n",
      "\n"
     ]
    }
   ],
   "source": [
    "# Model validation\n",
    "sentimento=[1,2,0]\n",
    "sentimento=['Positivo','Negativo','Neutro']\n",
    "print (metrics.classification_report(train_labels, cross_val_results, sentimento))"
   ]
  },
  {
   "cell_type": "code",
   "execution_count": 125,
   "metadata": {},
   "outputs": [
    {
     "name": "stdout",
     "output_type": "stream",
     "text": [
      "Prediction  Negativo  Neutro  Positivo   All\n",
      "Real                                        \n",
      "Negativo        2275     162         9  2446\n",
      "Neutro           240    2067       146  2453\n",
      "Positivo          45     356      2899  3300\n",
      "All             2560    2585      3054  8199\n"
     ]
    }
   ],
   "source": [
    "# Confusion matrix\n",
    "# assert len(train_labels) == len(cross_val_results)\n",
    "print (pd.crosstab(train_labels, cross_val_results, rownames=['Real'], colnames=['Prediction'], margins=True))"
   ]
  },
  {
   "cell_type": "markdown",
   "metadata": {},
   "source": [
    "## 4. Demo"
   ]
  },
  {
   "cell_type": "code",
   "execution_count": 144,
   "metadata": {},
   "outputs": [],
   "source": [
    "def classify_review(review):\n",
    "#     classified = classifier.predict(count_vectorizer.transform([review]))\n",
    "    classified = classifier.predict(vectorizer.transform([review]))\n",
    "# freq_testes = vectorizer.transform(testes)\n",
    "    return classified\n",
    "    if classified[0] == 1:\n",
    "        print('This is a negative tweet! :)')\n",
    "    elif classified[0] == 0:\n",
    "        print('This is a neutral tweet! :|')\n",
    "    elif classified[0] == 2:\n",
    "        print('This is a negative tweet! :(')\n",
    "    else:\n",
    "        print('I\\'ve no idea of what\\'s going on')"
   ]
  },
  {
   "cell_type": "code",
   "execution_count": 148,
   "metadata": {},
   "outputs": [
    {
     "data": {
      "text/plain": [
       "array([u'Negativo'], dtype='<U8')"
      ]
     },
     "execution_count": 148,
     "metadata": {},
     "output_type": "execute_result"
    }
   ],
   "source": [
    "# Demo: Negative review\n",
    "classify_review('O Neymar está deixando a desejar')"
   ]
  },
  {
   "cell_type": "code",
   "execution_count": 149,
   "metadata": {},
   "outputs": [
    {
     "data": {
      "text/plain": [
       "array([u'Positivo'], dtype='<U8')"
      ]
     },
     "execution_count": 149,
     "metadata": {},
     "output_type": "execute_result"
    }
   ],
   "source": [
    "# Demo: Positive review\n",
    "\n",
    "classify_review(\n",
    "    'O Brasil está investindo em educação, construindo mais escolas e preparando melhor os professores'\n",
    ")"
   ]
  },
  {
   "cell_type": "code",
   "execution_count": 150,
   "metadata": {},
   "outputs": [
    {
     "data": {
      "text/plain": [
       "array([u'Neutro'], dtype='<U8')"
      ]
     },
     "execution_count": 150,
     "metadata": {},
     "output_type": "execute_result"
    }
   ],
   "source": [
    "# Demo: Neutral review\n",
    "classify_review('Esse governo está no início, vamos ver o que vai dar')"
   ]
  }
 ],
 "metadata": {
  "kernelspec": {
   "display_name": "Python 2",
   "language": "python",
   "name": "python2"
  },
  "language_info": {
   "codemirror_mode": {
    "name": "ipython",
    "version": 2
   },
   "file_extension": ".py",
   "mimetype": "text/x-python",
   "name": "python",
   "nbconvert_exporter": "python",
   "pygments_lexer": "ipython2",
   "version": "2.7.15"
  }
 },
 "nbformat": 4,
 "nbformat_minor": 2
}
